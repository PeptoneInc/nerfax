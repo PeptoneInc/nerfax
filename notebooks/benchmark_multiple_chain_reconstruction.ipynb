{
 "cells": [
  {
   "cell_type": "code",
   "execution_count": 1,
   "source": [
    "# utils\n",
    "import pandas as pd\n",
    "import plotly.express as px\n",
    "import numpy as np\n",
    "import mdtraj as md\n",
    "\n",
    "# smp_nerf (and helpers)\n",
    "from functools import partial \n",
    "import jax\n",
    "from jax import numpy as jnp, vmap, jit, pmap\n",
    "from nerfax.plugin import convert_natural_to_scnet, convert_scnet_to_natural, get_jax_protein_fold\n",
    "from nerfax.reconstruct import reconstruct_from_internal_coordinates\n",
    "from nerfax.utils import get_align_rigid_bodies_fn\n",
    "from nerfax.parser import load_pdb, load_to_sc_coord_format, get_scnet_loader_fns, load_traj"
   ],
   "outputs": [],
   "metadata": {}
  },
  {
   "cell_type": "code",
   "execution_count": 8,
   "source": [
    "!tar -xvf ../data/biomolecular_condensate.tar.gz -C ../data"
   ],
   "outputs": [
    {
     "output_type": "stream",
     "name": "stdout",
     "text": [
      "biomolecular_condenstate.pdb\r\n"
     ]
    }
   ],
   "metadata": {}
  },
  {
   "cell_type": "code",
   "execution_count": 10,
   "source": [
    "path = '../data/biomolecular_condensate.pdb'\n",
    "\n",
    "t = load_traj(path)\n",
    "scaffolds = load_pdb(path, first_frame_only=False)\n",
    "\n",
    "reconstruct_fn = partial(reconstruct_from_internal_coordinates, mode='associative')\n",
    "_fold = get_jax_protein_fold(jax.tree_map(lambda x: x[0], scaffolds), reconstruct_fn=reconstruct_fn)\n",
    "def fold(scaffolds, ref):\n",
    "    # ref: (3,3) array with positions of (N,CA,C) for first residue\n",
    "    coords = _fold(*[scaffolds[k] for k in ['angles_mask', 'bond_mask']])\n",
    "    align_fn = get_align_rigid_bodies_fn(coords[0,:3], ref)\n",
    "    return align_fn(coords)\n",
    "\n",
    "f = jit(vmap(fold))\n",
    "scaffolds = load_pdb(path, first_frame_only=False)\n",
    "\n",
    "inputs = (scaffolds, t.xyz[:,:3]*10)\n",
    "inputs = jax.tree_map(jnp.array, inputs)\n",
    "\n",
    "coords = jax.block_until_ready(f(*inputs)) # Compile once\n",
    "timings = %timeit -n 10 -r 10 -q -o _ = jax.block_until_ready(f(*inputs))\n",
    "logs = {'best':timings.best, 'average': timings.average, 'stdev': timings.stdev}\n",
    "print(f\"Timing: {logs['best']*1e3:.2f}ms for {t.n_frames} chains of {t.n_residues} residues reconstructed in global reference frame from internal coordinates\")"
   ],
   "outputs": [
    {
     "output_type": "stream",
     "name": "stdout",
     "text": [
      "3.57 ms ± 253 µs per loop (mean ± std. dev. of 10 runs, 10 loops each)\n",
      "Timing: 3.18ms for 1000 chains of 163 residues reconstructed in global reference frame from internal coordinates\n"
     ]
    }
   ],
   "metadata": {}
  },
  {
   "cell_type": "code",
   "execution_count": null,
   "source": [
    "# tracing\n",
    "# with jax.profiler.trace('/tmp/tensorboard'):\n",
    "#     _ = jax.block_until_ready(f(*inputs))"
   ],
   "outputs": [],
   "metadata": {}
  },
  {
   "cell_type": "code",
   "execution_count": null,
   "source": [
    "def save(t, outpath, coords):\n",
    "    _parse_coords, _restrict_to_scnet_atoms, _scnet_to_list = get_scnet_loader_fns(t)\n",
    "    t_ = _restrict_to_scnet_atoms(t)\n",
    "    t_.xyz = vmap(_scnet_to_list)(coords)\n",
    "    t_.save_pdb(outpath)\n",
    "    \n",
    "save(t, '/tmp/reconstructed.pdb', coords)\n",
    "t.save_pdb('/tmp/ground_truth.pdb')"
   ],
   "outputs": [],
   "metadata": {}
  },
  {
   "cell_type": "code",
   "execution_count": null,
   "source": [
    "# Optional visualisation\n",
    "import nglview as nv\n",
    "t_reconstructed = md.load('/tmp/reconstructed.pdb')\n",
    "t_ground_truth = md.load('/tmp/ground_truth.pdb')\n",
    "\n",
    "\n",
    "vw = nv.NGLWidget(height='700px')\n",
    "vw.add_trajectory(t_reconstructed, default=False, name='reconstructed')\n",
    "vw.add_trajectory(t_ground_truth, default=False, name='ground truth')\n",
    "selection='all'\n",
    "\n",
    "vw.add_representation('licorice', selection, component=0, color='blue')\n",
    "vw.add_representation('licorice', selection, component=1, color='red', opacity=0.5)\n",
    "vw.center()\n",
    "vw.display(gui=True)"
   ],
   "outputs": [],
   "metadata": {}
  }
 ],
 "metadata": {
  "kernelspec": {
   "display_name": "Python 3 (ipykernel)",
   "language": "python",
   "name": "python3"
  },
  "language_info": {
   "codemirror_mode": {
    "name": "ipython",
    "version": 3
   },
   "file_extension": ".py",
   "mimetype": "text/x-python",
   "name": "python",
   "nbconvert_exporter": "python",
   "pygments_lexer": "ipython3",
   "version": "3.8.12"
  }
 },
 "nbformat": 4,
 "nbformat_minor": 5
}