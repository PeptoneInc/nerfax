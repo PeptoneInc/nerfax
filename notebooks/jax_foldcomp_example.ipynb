{
  "nbformat": 4,
  "nbformat_minor": 0,
  "metadata": {
    "colab": {
      "provenance": [],
      "authorship_tag": "ABX9TyPU2/5DHt+87g9d/Aimpxy7",
      "include_colab_link": true
    },
    "kernelspec": {
      "name": "python3",
      "display_name": "Python 3"
    },
    "language_info": {
      "name": "python"
    }
  },
  "cells": [
    {
      "cell_type": "markdown",
      "metadata": {
        "id": "view-in-github",
        "colab_type": "text"
      },
      "source": [
        "<a href=\"https://colab.research.google.com/github/PeptoneLtd/nerfax/blob/main/jax_foldcomp_example.ipynb\" target=\"_parent\"><img src=\"https://colab.research.google.com/assets/colab-badge.svg\" alt=\"Open In Colab\"/></a>"
      ]
    },
    {
      "cell_type": "markdown",
      "source": [],
      "metadata": {
        "id": "H17gXF9pPVf9"
      }
    },
    {
      "cell_type": "code",
      "source": [
        "!pip install -q git+https://github.com/PeptoneLtd/nerfax.git foldcomp\n",
        "!wget https://mmseqs.com/foldcomp/foldcomp-linux-x86_64.tar.gz && tar -xvf foldcomp-linux-x86_64.tar.gz && chmod +x foldcomp "
      ],
      "metadata": {
        "colab": {
          "base_uri": "https://localhost:8080/"
        },
        "id": "dH-1WbeiQahJ",
        "outputId": "60015772-eecb-4dcf-be19-e91725518ad9"
      },
      "execution_count": 1,
      "outputs": [
        {
          "output_type": "stream",
          "name": "stdout",
          "text": [
            "Looking in indexes: https://pypi.org/simple, https://us-python.pkg.dev/colab-wheels/public/simple/\n",
            "Collecting git+https://github.com/PeptoneLtd/nerfax.git\n",
            "  Cloning https://github.com/PeptoneLtd/nerfax.git to /tmp/pip-req-build-njj489l6\n",
            "  Running command git clone --filter=blob:none --quiet https://github.com/PeptoneLtd/nerfax.git /tmp/pip-req-build-njj489l6\n",
            "  Resolved https://github.com/PeptoneLtd/nerfax.git to commit 5fb1a40b75a3d8825d1865078a424c7317fa992a\n",
            "  Preparing metadata (setup.py) ... \u001b[?25l\u001b[?25hdone\n",
            "Collecting foldcomp\n",
            "  Downloading foldcomp-0.0.5-cp310-cp310-manylinux_2_17_x86_64.manylinux2014_x86_64.whl (266 kB)\n",
            "\u001b[2K     \u001b[90m━━━━━━━━━━━━━━━━━━━━━━━━━━━━━━━━━━━━━━━\u001b[0m \u001b[32m266.5/266.5 kB\u001b[0m \u001b[31m3.9 MB/s\u001b[0m eta \u001b[36m0:00:00\u001b[0m\n",
            "\u001b[?25hCollecting mp_nerf==1.0.3 (from nerfax==1.0.0)\n",
            "  Downloading mp_nerf-1.0.3-py3-none-any.whl (23 kB)\n",
            "Requirement already satisfied: jax>=0.3.0 in /usr/local/lib/python3.10/dist-packages (from nerfax==1.0.0) (0.4.10)\n",
            "Requirement already satisfied: jaxlib>=0.3.0 in /usr/local/lib/python3.10/dist-packages (from nerfax==1.0.0) (0.4.10+cuda11.cudnn86)\n",
            "Collecting mdtraj (from nerfax==1.0.0)\n",
            "  Downloading mdtraj-1.9.7.tar.gz (2.1 MB)\n",
            "\u001b[2K     \u001b[90m━━━━━━━━━━━━━━━━━━━━━━━━━━━━━━━━━━━━━━━━\u001b[0m \u001b[32m2.1/2.1 MB\u001b[0m \u001b[31m72.8 MB/s\u001b[0m eta \u001b[36m0:00:00\u001b[0m\n",
            "\u001b[?25h  Installing build dependencies ... \u001b[?25l\u001b[?25hdone\n",
            "  Getting requirements to build wheel ... \u001b[?25l\u001b[?25hdone\n",
            "  Preparing metadata (pyproject.toml) ... \u001b[?25l\u001b[?25hdone\n",
            "Collecting Bio (from nerfax==1.0.0)\n",
            "  Downloading bio-1.5.9-py3-none-any.whl (276 kB)\n",
            "\u001b[2K     \u001b[90m━━━━━━━━━━━━━━━━━━━━━━━━━━━━━━━━━━━━━━\u001b[0m \u001b[32m276.4/276.4 kB\u001b[0m \u001b[31m28.1 MB/s\u001b[0m eta \u001b[36m0:00:00\u001b[0m\n",
            "\u001b[?25hCollecting einops>=0.3 (from mp_nerf==1.0.3->nerfax==1.0.0)\n",
            "  Downloading einops-0.6.1-py3-none-any.whl (42 kB)\n",
            "\u001b[2K     \u001b[90m━━━━━━━━━━━━━━━━━━━━━━━━━━━━━━━━━━━━━━━━\u001b[0m \u001b[32m42.2/42.2 kB\u001b[0m \u001b[31m5.6 MB/s\u001b[0m eta \u001b[36m0:00:00\u001b[0m\n",
            "\u001b[?25hRequirement already satisfied: numpy in /usr/local/lib/python3.10/dist-packages (from mp_nerf==1.0.3->nerfax==1.0.0) (1.22.4)\n",
            "Requirement already satisfied: torch>=1.6 in /usr/local/lib/python3.10/dist-packages (from mp_nerf==1.0.3->nerfax==1.0.0) (2.0.1+cu118)\n",
            "Collecting httpx>=0.23.0 (from foldcomp)\n",
            "  Downloading httpx-0.24.1-py3-none-any.whl (75 kB)\n",
            "\u001b[2K     \u001b[90m━━━━━━━━━━━━━━━━━━━━━━━━━━━━━━━━━━━━━━━━\u001b[0m \u001b[32m75.4/75.4 kB\u001b[0m \u001b[31m9.0 MB/s\u001b[0m eta \u001b[36m0:00:00\u001b[0m\n",
            "\u001b[?25hRequirement already satisfied: certifi in /usr/local/lib/python3.10/dist-packages (from httpx>=0.23.0->foldcomp) (2022.12.7)\n",
            "Collecting httpcore<0.18.0,>=0.15.0 (from httpx>=0.23.0->foldcomp)\n",
            "  Downloading httpcore-0.17.2-py3-none-any.whl (72 kB)\n",
            "\u001b[2K     \u001b[90m━━━━━━━━━━━━━━━━━━━━━━━━━━━━━━━━━━━━━━━━\u001b[0m \u001b[32m72.5/72.5 kB\u001b[0m \u001b[31m9.9 MB/s\u001b[0m eta \u001b[36m0:00:00\u001b[0m\n",
            "\u001b[?25hRequirement already satisfied: idna in /usr/local/lib/python3.10/dist-packages (from httpx>=0.23.0->foldcomp) (3.4)\n",
            "Requirement already satisfied: sniffio in /usr/local/lib/python3.10/dist-packages (from httpx>=0.23.0->foldcomp) (1.3.0)\n",
            "Requirement already satisfied: ml-dtypes>=0.1.0 in /usr/local/lib/python3.10/dist-packages (from jax>=0.3.0->nerfax==1.0.0) (0.1.0)\n",
            "Requirement already satisfied: opt-einsum in /usr/local/lib/python3.10/dist-packages (from jax>=0.3.0->nerfax==1.0.0) (3.3.0)\n",
            "Requirement already satisfied: scipy>=1.7 in /usr/local/lib/python3.10/dist-packages (from jax>=0.3.0->nerfax==1.0.0) (1.10.1)\n",
            "Collecting biopython>=1.80 (from Bio->nerfax==1.0.0)\n",
            "  Downloading biopython-1.81-cp310-cp310-manylinux_2_17_x86_64.manylinux2014_x86_64.whl (3.1 MB)\n",
            "\u001b[2K     \u001b[90m━━━━━━━━━━━━━━━━━━━━━━━━━━━━━━━━━━━━━━━━\u001b[0m \u001b[32m3.1/3.1 MB\u001b[0m \u001b[31m59.9 MB/s\u001b[0m eta \u001b[36m0:00:00\u001b[0m\n",
            "\u001b[?25hRequirement already satisfied: requests in /usr/local/lib/python3.10/dist-packages (from Bio->nerfax==1.0.0) (2.27.1)\n",
            "Requirement already satisfied: tqdm in /usr/local/lib/python3.10/dist-packages (from Bio->nerfax==1.0.0) (4.65.0)\n",
            "Collecting mygene (from Bio->nerfax==1.0.0)\n",
            "  Downloading mygene-3.2.2-py2.py3-none-any.whl (5.4 kB)\n",
            "Requirement already satisfied: pandas in /usr/local/lib/python3.10/dist-packages (from Bio->nerfax==1.0.0) (1.5.3)\n",
            "Requirement already satisfied: pooch in /usr/local/lib/python3.10/dist-packages (from Bio->nerfax==1.0.0) (1.6.0)\n",
            "Collecting gprofiler-official (from Bio->nerfax==1.0.0)\n",
            "  Downloading gprofiler_official-1.0.0-py3-none-any.whl (9.3 kB)\n",
            "Requirement already satisfied: astunparse in /usr/local/lib/python3.10/dist-packages (from mdtraj->nerfax==1.0.0) (1.6.3)\n",
            "Requirement already satisfied: pyparsing in /usr/local/lib/python3.10/dist-packages (from mdtraj->nerfax==1.0.0) (3.0.9)\n",
            "Collecting h11<0.15,>=0.13 (from httpcore<0.18.0,>=0.15.0->httpx>=0.23.0->foldcomp)\n",
            "  Downloading h11-0.14.0-py3-none-any.whl (58 kB)\n",
            "\u001b[2K     \u001b[90m━━━━━━━━━━━━━━━━━━━━━━━━━━━━━━━━━━━━━━━━\u001b[0m \u001b[32m58.3/58.3 kB\u001b[0m \u001b[31m8.1 MB/s\u001b[0m eta \u001b[36m0:00:00\u001b[0m\n",
            "\u001b[?25hRequirement already satisfied: anyio<5.0,>=3.0 in /usr/local/lib/python3.10/dist-packages (from httpcore<0.18.0,>=0.15.0->httpx>=0.23.0->foldcomp) (3.6.2)\n",
            "Requirement already satisfied: filelock in /usr/local/lib/python3.10/dist-packages (from torch>=1.6->mp_nerf==1.0.3->nerfax==1.0.0) (3.12.0)\n",
            "Requirement already satisfied: typing-extensions in /usr/local/lib/python3.10/dist-packages (from torch>=1.6->mp_nerf==1.0.3->nerfax==1.0.0) (4.5.0)\n",
            "Requirement already satisfied: sympy in /usr/local/lib/python3.10/dist-packages (from torch>=1.6->mp_nerf==1.0.3->nerfax==1.0.0) (1.11.1)\n",
            "Requirement already satisfied: networkx in /usr/local/lib/python3.10/dist-packages (from torch>=1.6->mp_nerf==1.0.3->nerfax==1.0.0) (3.1)\n",
            "Requirement already satisfied: jinja2 in /usr/local/lib/python3.10/dist-packages (from torch>=1.6->mp_nerf==1.0.3->nerfax==1.0.0) (3.1.2)\n",
            "Requirement already satisfied: triton==2.0.0 in /usr/local/lib/python3.10/dist-packages (from torch>=1.6->mp_nerf==1.0.3->nerfax==1.0.0) (2.0.0)\n",
            "Requirement already satisfied: cmake in /usr/local/lib/python3.10/dist-packages (from triton==2.0.0->torch>=1.6->mp_nerf==1.0.3->nerfax==1.0.0) (3.25.2)\n",
            "Requirement already satisfied: lit in /usr/local/lib/python3.10/dist-packages (from triton==2.0.0->torch>=1.6->mp_nerf==1.0.3->nerfax==1.0.0) (16.0.5)\n",
            "Requirement already satisfied: wheel<1.0,>=0.23.0 in /usr/local/lib/python3.10/dist-packages (from astunparse->mdtraj->nerfax==1.0.0) (0.40.0)\n",
            "Requirement already satisfied: six<2.0,>=1.6.1 in /usr/local/lib/python3.10/dist-packages (from astunparse->mdtraj->nerfax==1.0.0) (1.16.0)\n",
            "Collecting biothings-client>=0.2.6 (from mygene->Bio->nerfax==1.0.0)\n",
            "  Downloading biothings_client-0.3.0-py2.py3-none-any.whl (29 kB)\n",
            "Requirement already satisfied: python-dateutil>=2.8.1 in /usr/local/lib/python3.10/dist-packages (from pandas->Bio->nerfax==1.0.0) (2.8.2)\n",
            "Requirement already satisfied: pytz>=2020.1 in /usr/local/lib/python3.10/dist-packages (from pandas->Bio->nerfax==1.0.0) (2022.7.1)\n",
            "Requirement already satisfied: appdirs>=1.3.0 in /usr/local/lib/python3.10/dist-packages (from pooch->Bio->nerfax==1.0.0) (1.4.4)\n",
            "Requirement already satisfied: packaging>=20.0 in /usr/local/lib/python3.10/dist-packages (from pooch->Bio->nerfax==1.0.0) (23.1)\n",
            "Requirement already satisfied: urllib3<1.27,>=1.21.1 in /usr/local/lib/python3.10/dist-packages (from requests->Bio->nerfax==1.0.0) (1.26.15)\n",
            "Requirement already satisfied: charset-normalizer~=2.0.0 in /usr/local/lib/python3.10/dist-packages (from requests->Bio->nerfax==1.0.0) (2.0.12)\n",
            "Requirement already satisfied: MarkupSafe>=2.0 in /usr/local/lib/python3.10/dist-packages (from jinja2->torch>=1.6->mp_nerf==1.0.3->nerfax==1.0.0) (2.1.2)\n",
            "Requirement already satisfied: mpmath>=0.19 in /usr/local/lib/python3.10/dist-packages (from sympy->torch>=1.6->mp_nerf==1.0.3->nerfax==1.0.0) (1.3.0)\n",
            "Building wheels for collected packages: nerfax, mdtraj\n",
            "  Building wheel for nerfax (setup.py) ... \u001b[?25l\u001b[?25hdone\n",
            "  Created wheel for nerfax: filename=nerfax-1.0.0-py3-none-any.whl size=23580 sha256=61a2542f02731fc3123ba60a5b0eebd355865957efd4abf79ba55f91b0a402e8\n",
            "  Stored in directory: /tmp/pip-ephem-wheel-cache-6lkuqpfm/wheels/c6/2a/a1/7f7459446c39c4cca7a5e0e4e97ffd17c4d0972bbca314e780\n",
            "  Building wheel for mdtraj (pyproject.toml) ... \u001b[?25l\u001b[?25hdone\n",
            "  Created wheel for mdtraj: filename=mdtraj-1.9.7-cp310-cp310-linux_x86_64.whl size=7958425 sha256=28035e88ef13fe3d83940770c32d76d7db4dc6579f4f43cb0153f2ce72901e97\n",
            "  Stored in directory: /root/.cache/pip/wheels/ad/55/84/3b6abc1f4021160d8b6b876a9ed69148344f57bc443c1d2dd3\n",
            "Successfully built nerfax mdtraj\n",
            "Installing collected packages: h11, einops, biopython, mdtraj, httpcore, gprofiler-official, biothings-client, mygene, httpx, foldcomp, Bio, mp_nerf, nerfax\n",
            "Successfully installed Bio-1.5.9 biopython-1.81 biothings-client-0.3.0 einops-0.6.1 foldcomp-0.0.5 gprofiler-official-1.0.0 h11-0.14.0 httpcore-0.17.2 httpx-0.24.1 mdtraj-1.9.7 mp_nerf-1.0.3 mygene-3.2.2 nerfax-1.0.0\n",
            "--2023-05-25 19:58:29--  https://mmseqs.com/foldcomp/foldcomp-linux-x86_64.tar.gz\n",
            "Resolving mmseqs.com (mmseqs.com)... 147.46.145.74\n",
            "Connecting to mmseqs.com (mmseqs.com)|147.46.145.74|:443... connected.\n",
            "HTTP request sent, awaiting response... 200 OK\n",
            "Length: 2055298 (2.0M) [application/octet-stream]\n",
            "Saving to: ‘foldcomp-linux-x86_64.tar.gz’\n",
            "\n",
            "foldcomp-linux-x86_ 100%[===================>]   1.96M  1.74MB/s    in 1.1s    \n",
            "\n",
            "2023-05-25 19:58:31 (1.74 MB/s) - ‘foldcomp-linux-x86_64.tar.gz’ saved [2055298/2055298]\n",
            "\n",
            "foldcomp\n"
          ]
        }
      ]
    },
    {
      "cell_type": "code",
      "source": [
        "import requests\n",
        "from os.path import basename\n",
        "import tarfile\n",
        "def download(url, nmax=3, outfolder='.', file_tag='.pdb.gz'):\n",
        "    response = requests.get(url, stream=True)\n",
        "    paths = []\n",
        "    with tarfile.open(fileobj=response.raw, mode='r|gz') as archive:\n",
        "      while (len(paths)<nmax):\n",
        "          tarinfo = archive.next()\n",
        "          if tarinfo.isreg() & (file_tag in tarinfo.name):\n",
        "              print(tarinfo.name)\n",
        "              handle = archive.extractfile(tarinfo)\n",
        "              data = handle.read()\n",
        "              handle.close()\n",
        "\n",
        "              outpath = f'{outfolder}/{basename(tarinfo.name)}'\n",
        "              open(outpath,'wb').write(data)\n",
        "              paths.append(outpath)\n",
        "    return paths\n",
        "\n",
        "# Download a small part of example data\n",
        "url = 'https://foldcomp.steineggerlab.workers.dev/afdb_swissprot_foldcompdb.tar.gz'\n",
        "!mkdir -p /content/example_data/\n",
        "paths = download(url, nmax=5, outfolder='/content/example_data/', file_tag ='afdb_swissprot.')\n",
        "# !/content/foldcomp compress /content/example_data/"
      ],
      "metadata": {
        "id": "armmK5_fOYpj",
        "colab": {
          "base_uri": "https://localhost:8080/"
        },
        "outputId": "d0d651af-b621-47e9-e918-f742bf3be4e1"
      },
      "execution_count": 2,
      "outputs": [
        {
          "output_type": "stream",
          "name": "stdout",
          "text": [
            "./afdb_swissprot/afdb_swissprot.95\n",
            "./afdb_swissprot/afdb_swissprot.191\n",
            "./afdb_swissprot/afdb_swissprot.121\n",
            "./afdb_swissprot/afdb_swissprot.179\n",
            "./afdb_swissprot/afdb_swissprot.148\n"
          ]
        }
      ]
    },
    {
      "cell_type": "code",
      "source": [
        "from functools import partial\n",
        "from glob import glob\n",
        "from time import time\n",
        "import numpy as np\n",
        "import jax\n",
        "from jax import jit, numpy as jnp\n",
        "import foldcomp\n",
        "\n",
        "from nerfax.foldcomp_utils import decompress, reconstruct, load_data\n",
        "paths = glob('/content/example_data/afdb_swissprot.*')\n",
        "\n",
        "compute_rmsd = lambda a,b: ((a-b)**2).sum(-1).mean()**0.5\n",
        "\n",
        "inputs = []\n",
        "for path in paths:\n",
        "    (tag, nResidue, nAtom, idxResidue, idxAtom, nAnchor, chain, firstResidue, lastResidue, strTitle), \\\n",
        "        (anchorIndices, anchorCoords), (hasOXT, oxtCoords), aas, (angles_torsions_discretizers, angles_torsions_body, angles_torsions_end), \\\n",
        "        sideChainAnglesDiscretized, (tempFactorsDisc_min, tempFactorsDisc_cont_f, tempFactorsDisc) = load_data(path)\n",
        "    inputs.append((angles_torsions_discretizers, angles_torsions_body, angles_torsions_end, anchorCoords, aas, sideChainAnglesDiscretized, hasOXT, oxtCoords))\n",
        "\n",
        "for i in np.random.choice(np.arange(len(paths)), 4):\n",
        "    path = paths[i]\n",
        "    (angles_torsions_discretizers, angles_torsions_body, angles_torsions_end, anchorCoords, aas, sideChainAnglesDiscretized, hasOXT, oxtCoords) = inputs[i]\n",
        "        \n",
        "    foldcomp_coords = np.array(foldcomp.get_data(open(path,'rb').read())['coordinates'])\n",
        "    \n",
        "    '''\n",
        "    The aas and hasOXT have to be known for static shapes. \n",
        "    So here we fold them in, and compile time eval tags in the codebase does the rest\n",
        "    '''\n",
        "    @partial(jit, backend='cpu')\n",
        "    def fold(angles_torsions_discretizers, angles_torsions_body, angles_torsions_end, anchorCoords, sideChainAnglesDiscretized, oxtCoords):\n",
        "        return reconstruct(angles_torsions_discretizers, angles_torsions_body, angles_torsions_end, anchorCoords, aas, sideChainAnglesDiscretized, hasOXT, oxtCoords)\n",
        "    \n",
        "    start_uncompiled = time()\n",
        "    coords = jax.block_until_ready(fold(angles_torsions_discretizers, angles_torsions_body, angles_torsions_end, anchorCoords, sideChainAnglesDiscretized, oxtCoords))\n",
        "    end_uncompiled = time()\n",
        "    \n",
        "    rmsd = compute_rmsd(foldcomp_coords, coords)\n",
        "    \n",
        "    start_compiled = time()\n",
        "    coords = jax.block_until_ready(fold(angles_torsions_discretizers, angles_torsions_body, angles_torsions_end, anchorCoords, sideChainAnglesDiscretized, oxtCoords))\n",
        "    end_compiled = time()\n",
        "    \n",
        "    print(f'{aas.shape[0]} residues, {end_uncompiled-start_uncompiled:.2f} seconds with compilation, {rmsd:.3f} Angstrom RMSD, {(end_compiled-start_compiled)*1000:.2f} ms when compiled (with some compile time eval)')"
      ],
      "metadata": {
        "colab": {
          "base_uri": "https://localhost:8080/"
        },
        "id": "hRQS7afF52fB",
        "outputId": "067b381c-ca61-4a7a-8798-e1471d7fd15e"
      },
      "execution_count": 3,
      "outputs": [
        {
          "output_type": "stream",
          "name": "stderr",
          "text": [
            "WARNING:jax._src.xla_bridge:No GPU/TPU found, falling back to CPU. (Set TF_CPP_MIN_LOG_LEVEL=0 and rerun for more info.)\n"
          ]
        },
        {
          "output_type": "stream",
          "name": "stdout",
          "text": [
            "138 residues, 14.45 seconds with compilation, 0.036 Angstrom RMSD, 0.87 ms when compiled (with some compile time eval)\n",
            "360 residues, 5.98 seconds with compilation, 0.030 Angstrom RMSD, 0.89 ms when compiled (with some compile time eval)\n",
            "192 residues, 6.00 seconds with compilation, 0.038 Angstrom RMSD, 0.61 ms when compiled (with some compile time eval)\n",
            "138 residues, 5.32 seconds with compilation, 0.036 Angstrom RMSD, 0.31 ms when compiled (with some compile time eval)\n"
          ]
        }
      ]
    },
    {
      "cell_type": "markdown",
      "source": [
        "  1 - input shapes differ, it would be much faster if it could be compiled with dynamic shape. Normally this can be dealt with by pre-compiling over a range of shapes and padding up, but the (uncompiled) padding operation then becomes the bottleneck as these are such small computations\n"
      ],
      "metadata": {
        "id": "wkXUPMVD-zv2"
      }
    },
    {
      "cell_type": "code",
      "source": [
        "display(jax.tree_map(jnp.shape, inputs))"
      ],
      "metadata": {
        "colab": {
          "base_uri": "https://localhost:8080/",
          "height": 106
        },
        "id": "Vod-k_E69k-i",
        "outputId": "341ed14c-c0a6-493a-a64d-2977d8aea9b1"
      },
      "execution_count": 4,
      "outputs": [
        {
          "output_type": "display_data",
          "data": {
            "text/plain": [
              "[((2, 6), (14, 24, 6), (24, 6), (16, 3, 3), (360,), (1759,), (), (3,)),\n",
              " ((2, 6), (7, 24, 6), (24, 6), (9, 3, 3), (192,), (916,), (), (3,)),\n",
              " ((2, 6), (12, 23, 6), (32, 6), (14, 3, 3), (308,), (1525,), (), (3,)),\n",
              " ((2, 6), (5, 23, 6), (23, 6), (7, 3, 3), (138,), (643,), (), (3,)),\n",
              " ((2, 6), (13, 23, 6), (34, 6), (15, 3, 3), (333,), (1562,), (), (3,))]"
            ]
          },
          "metadata": {}
        }
      ]
    },
    {
      "cell_type": "markdown",
      "source": [
        " 2 - It's slightly worse than just dynamic shape compilation, as some shapes are computed from values in the input arrays, rather than shapes. Currently to deal with this I have used ensure_compile_time_eval.\n",
        "    # taken out so booleans known\n",
        "    with jax.ensure_compile_time_eval():\n",
        "        atom_mask = jnp.array(AA_REF_ATOM_MASK).at[aas].get()\n",
        "    ...\n",
        "    for i in range(11):\n",
        "        with jax.ensure_compile_time_eval():\n",
        "            # taken out so booleans known, we have no way of inferring shape here without concrete values\n",
        "            level_mask = atom_mask[:, i]\n"
      ],
      "metadata": {
        "id": "U7Y_h0kx-_K7"
      }
    },
    {
      "cell_type": "code",
      "source": [],
      "metadata": {
        "id": "0vTs5DJAYG42"
      },
      "execution_count": null,
      "outputs": []
    }
  ]
}