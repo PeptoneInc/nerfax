{
  "nbformat": 4,
  "nbformat_minor": 0,
  "metadata": {
    "colab": {
      "provenance": []
    },
    "kernelspec": {
      "name": "python3",
      "display_name": "Python 3"
    },
    "language_info": {
      "name": "python"
    }
  },
  "cells": [
    {
      "cell_type": "code",
      "execution_count": 1,
      "metadata": {
        "colab": {
          "base_uri": "https://localhost:8080/"
        },
        "id": "HQ2hQIkff2_6",
        "outputId": "1e9e324f-e0af-45e7-84bf-0cff586e5306"
      },
      "outputs": [
        {
          "output_type": "stream",
          "name": "stdout",
          "text": [
            "\u001b[?25l\r\u001b[K     |▏                               | 10 kB 20.8 MB/s eta 0:00:01\r\u001b[K     |▎                               | 20 kB 23.3 MB/s eta 0:00:01\r\u001b[K     |▌                               | 30 kB 28.7 MB/s eta 0:00:01\r\u001b[K     |▋                               | 40 kB 16.8 MB/s eta 0:00:01\r\u001b[K     |▉                               | 51 kB 6.3 MB/s eta 0:00:01\r\u001b[K     |█                               | 61 kB 7.4 MB/s eta 0:00:01\r\u001b[K     |█                               | 71 kB 7.2 MB/s eta 0:00:01\r\u001b[K     |█▎                              | 81 kB 7.6 MB/s eta 0:00:01\r\u001b[K     |█▍                              | 92 kB 8.4 MB/s eta 0:00:01\r\u001b[K     |█▋                              | 102 kB 9.2 MB/s eta 0:00:01\r\u001b[K     |█▊                              | 112 kB 9.2 MB/s eta 0:00:01\r\u001b[K     |█▉                              | 122 kB 9.2 MB/s eta 0:00:01\r\u001b[K     |██                              | 133 kB 9.2 MB/s eta 0:00:01\r\u001b[K     |██▏                             | 143 kB 9.2 MB/s eta 0:00:01\r\u001b[K     |██▍                             | 153 kB 9.2 MB/s eta 0:00:01\r\u001b[K     |██▌                             | 163 kB 9.2 MB/s eta 0:00:01\r\u001b[K     |██▊                             | 174 kB 9.2 MB/s eta 0:00:01\r\u001b[K     |██▉                             | 184 kB 9.2 MB/s eta 0:00:01\r\u001b[K     |███                             | 194 kB 9.2 MB/s eta 0:00:01\r\u001b[K     |███▏                            | 204 kB 9.2 MB/s eta 0:00:01\r\u001b[K     |███▎                            | 215 kB 9.2 MB/s eta 0:00:01\r\u001b[K     |███▌                            | 225 kB 9.2 MB/s eta 0:00:01\r\u001b[K     |███▋                            | 235 kB 9.2 MB/s eta 0:00:01\r\u001b[K     |███▊                            | 245 kB 9.2 MB/s eta 0:00:01\r\u001b[K     |████                            | 256 kB 9.2 MB/s eta 0:00:01\r\u001b[K     |████                            | 266 kB 9.2 MB/s eta 0:00:01\r\u001b[K     |████▎                           | 276 kB 9.2 MB/s eta 0:00:01\r\u001b[K     |████▍                           | 286 kB 9.2 MB/s eta 0:00:01\r\u001b[K     |████▌                           | 296 kB 9.2 MB/s eta 0:00:01\r\u001b[K     |████▊                           | 307 kB 9.2 MB/s eta 0:00:01\r\u001b[K     |████▉                           | 317 kB 9.2 MB/s eta 0:00:01\r\u001b[K     |█████                           | 327 kB 9.2 MB/s eta 0:00:01\r\u001b[K     |█████▏                          | 337 kB 9.2 MB/s eta 0:00:01\r\u001b[K     |█████▍                          | 348 kB 9.2 MB/s eta 0:00:01\r\u001b[K     |█████▌                          | 358 kB 9.2 MB/s eta 0:00:01\r\u001b[K     |█████▋                          | 368 kB 9.2 MB/s eta 0:00:01\r\u001b[K     |█████▉                          | 378 kB 9.2 MB/s eta 0:00:01\r\u001b[K     |██████                          | 389 kB 9.2 MB/s eta 0:00:01\r\u001b[K     |██████▏                         | 399 kB 9.2 MB/s eta 0:00:01\r\u001b[K     |██████▎                         | 409 kB 9.2 MB/s eta 0:00:01\r\u001b[K     |██████▍                         | 419 kB 9.2 MB/s eta 0:00:01\r\u001b[K     |██████▋                         | 430 kB 9.2 MB/s eta 0:00:01\r\u001b[K     |██████▊                         | 440 kB 9.2 MB/s eta 0:00:01\r\u001b[K     |███████                         | 450 kB 9.2 MB/s eta 0:00:01\r\u001b[K     |███████                         | 460 kB 9.2 MB/s eta 0:00:01\r\u001b[K     |███████▏                        | 471 kB 9.2 MB/s eta 0:00:01\r\u001b[K     |███████▍                        | 481 kB 9.2 MB/s eta 0:00:01\r\u001b[K     |███████▌                        | 491 kB 9.2 MB/s eta 0:00:01\r\u001b[K     |███████▊                        | 501 kB 9.2 MB/s eta 0:00:01\r\u001b[K     |███████▉                        | 512 kB 9.2 MB/s eta 0:00:01\r\u001b[K     |████████                        | 522 kB 9.2 MB/s eta 0:00:01\r\u001b[K     |████████▏                       | 532 kB 9.2 MB/s eta 0:00:01\r\u001b[K     |████████▎                       | 542 kB 9.2 MB/s eta 0:00:01\r\u001b[K     |████████▌                       | 552 kB 9.2 MB/s eta 0:00:01\r\u001b[K     |████████▋                       | 563 kB 9.2 MB/s eta 0:00:01\r\u001b[K     |████████▉                       | 573 kB 9.2 MB/s eta 0:00:01\r\u001b[K     |█████████                       | 583 kB 9.2 MB/s eta 0:00:01\r\u001b[K     |█████████                       | 593 kB 9.2 MB/s eta 0:00:01\r\u001b[K     |█████████▎                      | 604 kB 9.2 MB/s eta 0:00:01\r\u001b[K     |█████████▍                      | 614 kB 9.2 MB/s eta 0:00:01\r\u001b[K     |█████████▋                      | 624 kB 9.2 MB/s eta 0:00:01\r\u001b[K     |█████████▊                      | 634 kB 9.2 MB/s eta 0:00:01\r\u001b[K     |██████████                      | 645 kB 9.2 MB/s eta 0:00:01\r\u001b[K     |██████████                      | 655 kB 9.2 MB/s eta 0:00:01\r\u001b[K     |██████████▏                     | 665 kB 9.2 MB/s eta 0:00:01\r\u001b[K     |██████████▍                     | 675 kB 9.2 MB/s eta 0:00:01\r\u001b[K     |██████████▌                     | 686 kB 9.2 MB/s eta 0:00:01\r\u001b[K     |██████████▊                     | 696 kB 9.2 MB/s eta 0:00:01\r\u001b[K     |██████████▉                     | 706 kB 9.2 MB/s eta 0:00:01\r\u001b[K     |███████████                     | 716 kB 9.2 MB/s eta 0:00:01\r\u001b[K     |███████████▏                    | 727 kB 9.2 MB/s eta 0:00:01\r\u001b[K     |███████████▎                    | 737 kB 9.2 MB/s eta 0:00:01\r\u001b[K     |███████████▌                    | 747 kB 9.2 MB/s eta 0:00:01\r\u001b[K     |███████████▋                    | 757 kB 9.2 MB/s eta 0:00:01\r\u001b[K     |███████████▊                    | 768 kB 9.2 MB/s eta 0:00:01\r\u001b[K     |████████████                    | 778 kB 9.2 MB/s eta 0:00:01\r\u001b[K     |████████████                    | 788 kB 9.2 MB/s eta 0:00:01\r\u001b[K     |████████████▎                   | 798 kB 9.2 MB/s eta 0:00:01\r\u001b[K     |████████████▍                   | 808 kB 9.2 MB/s eta 0:00:01\r\u001b[K     |████████████▋                   | 819 kB 9.2 MB/s eta 0:00:01\r\u001b[K     |████████████▊                   | 829 kB 9.2 MB/s eta 0:00:01\r\u001b[K     |████████████▉                   | 839 kB 9.2 MB/s eta 0:00:01\r\u001b[K     |█████████████                   | 849 kB 9.2 MB/s eta 0:00:01\r\u001b[K     |█████████████▏                  | 860 kB 9.2 MB/s eta 0:00:01\r\u001b[K     |█████████████▍                  | 870 kB 9.2 MB/s eta 0:00:01\r\u001b[K     |█████████████▌                  | 880 kB 9.2 MB/s eta 0:00:01\r\u001b[K     |█████████████▋                  | 890 kB 9.2 MB/s eta 0:00:01\r\u001b[K     |█████████████▉                  | 901 kB 9.2 MB/s eta 0:00:01\r\u001b[K     |██████████████                  | 911 kB 9.2 MB/s eta 0:00:01\r\u001b[K     |██████████████▏                 | 921 kB 9.2 MB/s eta 0:00:01\r\u001b[K     |██████████████▎                 | 931 kB 9.2 MB/s eta 0:00:01\r\u001b[K     |██████████████▍                 | 942 kB 9.2 MB/s eta 0:00:01\r\u001b[K     |██████████████▋                 | 952 kB 9.2 MB/s eta 0:00:01\r\u001b[K     |██████████████▊                 | 962 kB 9.2 MB/s eta 0:00:01\r\u001b[K     |███████████████                 | 972 kB 9.2 MB/s eta 0:00:01\r\u001b[K     |███████████████                 | 983 kB 9.2 MB/s eta 0:00:01\r\u001b[K     |███████████████▎                | 993 kB 9.2 MB/s eta 0:00:01\r\u001b[K     |███████████████▍                | 1.0 MB 9.2 MB/s eta 0:00:01\r\u001b[K     |███████████████▌                | 1.0 MB 9.2 MB/s eta 0:00:01\r\u001b[K     |███████████████▊                | 1.0 MB 9.2 MB/s eta 0:00:01\r\u001b[K     |███████████████▉                | 1.0 MB 9.2 MB/s eta 0:00:01\r\u001b[K     |████████████████                | 1.0 MB 9.2 MB/s eta 0:00:01\r\u001b[K     |████████████████▏               | 1.1 MB 9.2 MB/s eta 0:00:01\r\u001b[K     |████████████████▎               | 1.1 MB 9.2 MB/s eta 0:00:01\r\u001b[K     |████████████████▌               | 1.1 MB 9.2 MB/s eta 0:00:01\r\u001b[K     |████████████████▋               | 1.1 MB 9.2 MB/s eta 0:00:01\r\u001b[K     |████████████████▉               | 1.1 MB 9.2 MB/s eta 0:00:01\r\u001b[K     |█████████████████               | 1.1 MB 9.2 MB/s eta 0:00:01\r\u001b[K     |█████████████████▏              | 1.1 MB 9.2 MB/s eta 0:00:01\r\u001b[K     |█████████████████▎              | 1.1 MB 9.2 MB/s eta 0:00:01\r\u001b[K     |█████████████████▍              | 1.1 MB 9.2 MB/s eta 0:00:01\r\u001b[K     |█████████████████▋              | 1.1 MB 9.2 MB/s eta 0:00:01\r\u001b[K     |█████████████████▊              | 1.2 MB 9.2 MB/s eta 0:00:01\r\u001b[K     |██████████████████              | 1.2 MB 9.2 MB/s eta 0:00:01\r\u001b[K     |██████████████████              | 1.2 MB 9.2 MB/s eta 0:00:01\r\u001b[K     |██████████████████▏             | 1.2 MB 9.2 MB/s eta 0:00:01\r\u001b[K     |██████████████████▍             | 1.2 MB 9.2 MB/s eta 0:00:01\r\u001b[K     |██████████████████▌             | 1.2 MB 9.2 MB/s eta 0:00:01\r\u001b[K     |██████████████████▊             | 1.2 MB 9.2 MB/s eta 0:00:01\r\u001b[K     |██████████████████▉             | 1.2 MB 9.2 MB/s eta 0:00:01\r\u001b[K     |███████████████████             | 1.2 MB 9.2 MB/s eta 0:00:01\r\u001b[K     |███████████████████▏            | 1.2 MB 9.2 MB/s eta 0:00:01\r\u001b[K     |███████████████████▎            | 1.3 MB 9.2 MB/s eta 0:00:01\r\u001b[K     |███████████████████▌            | 1.3 MB 9.2 MB/s eta 0:00:01\r\u001b[K     |███████████████████▋            | 1.3 MB 9.2 MB/s eta 0:00:01\r\u001b[K     |███████████████████▉            | 1.3 MB 9.2 MB/s eta 0:00:01\r\u001b[K     |████████████████████            | 1.3 MB 9.2 MB/s eta 0:00:01\r\u001b[K     |████████████████████            | 1.3 MB 9.2 MB/s eta 0:00:01\r\u001b[K     |████████████████████▎           | 1.3 MB 9.2 MB/s eta 0:00:01\r\u001b[K     |████████████████████▍           | 1.3 MB 9.2 MB/s eta 0:00:01\r\u001b[K     |████████████████████▋           | 1.3 MB 9.2 MB/s eta 0:00:01\r\u001b[K     |████████████████████▊           | 1.4 MB 9.2 MB/s eta 0:00:01\r\u001b[K     |████████████████████▉           | 1.4 MB 9.2 MB/s eta 0:00:01\r\u001b[K     |█████████████████████           | 1.4 MB 9.2 MB/s eta 0:00:01\r\u001b[K     |█████████████████████▏          | 1.4 MB 9.2 MB/s eta 0:00:01\r\u001b[K     |█████████████████████▍          | 1.4 MB 9.2 MB/s eta 0:00:01\r\u001b[K     |█████████████████████▌          | 1.4 MB 9.2 MB/s eta 0:00:01\r\u001b[K     |█████████████████████▋          | 1.4 MB 9.2 MB/s eta 0:00:01\r\u001b[K     |█████████████████████▉          | 1.4 MB 9.2 MB/s eta 0:00:01\r\u001b[K     |██████████████████████          | 1.4 MB 9.2 MB/s eta 0:00:01\r\u001b[K     |██████████████████████▏         | 1.4 MB 9.2 MB/s eta 0:00:01\r\u001b[K     |██████████████████████▎         | 1.5 MB 9.2 MB/s eta 0:00:01\r\u001b[K     |██████████████████████▌         | 1.5 MB 9.2 MB/s eta 0:00:01\r\u001b[K     |██████████████████████▋         | 1.5 MB 9.2 MB/s eta 0:00:01\r\u001b[K     |██████████████████████▊         | 1.5 MB 9.2 MB/s eta 0:00:01\r\u001b[K     |███████████████████████         | 1.5 MB 9.2 MB/s eta 0:00:01\r\u001b[K     |███████████████████████         | 1.5 MB 9.2 MB/s eta 0:00:01\r\u001b[K     |███████████████████████▎        | 1.5 MB 9.2 MB/s eta 0:00:01\r\u001b[K     |███████████████████████▍        | 1.5 MB 9.2 MB/s eta 0:00:01\r\u001b[K     |███████████████████████▌        | 1.5 MB 9.2 MB/s eta 0:00:01\r\u001b[K     |███████████████████████▊        | 1.5 MB 9.2 MB/s eta 0:00:01\r\u001b[K     |███████████████████████▉        | 1.6 MB 9.2 MB/s eta 0:00:01\r\u001b[K     |████████████████████████        | 1.6 MB 9.2 MB/s eta 0:00:01\r\u001b[K     |████████████████████████▏       | 1.6 MB 9.2 MB/s eta 0:00:01\r\u001b[K     |████████████████████████▍       | 1.6 MB 9.2 MB/s eta 0:00:01\r\u001b[K     |████████████████████████▌       | 1.6 MB 9.2 MB/s eta 0:00:01\r\u001b[K     |████████████████████████▋       | 1.6 MB 9.2 MB/s eta 0:00:01\r\u001b[K     |████████████████████████▉       | 1.6 MB 9.2 MB/s eta 0:00:01\r\u001b[K     |█████████████████████████       | 1.6 MB 9.2 MB/s eta 0:00:01\r\u001b[K     |█████████████████████████▏      | 1.6 MB 9.2 MB/s eta 0:00:01\r\u001b[K     |█████████████████████████▎      | 1.6 MB 9.2 MB/s eta 0:00:01\r\u001b[K     |█████████████████████████▍      | 1.7 MB 9.2 MB/s eta 0:00:01\r\u001b[K     |█████████████████████████▋      | 1.7 MB 9.2 MB/s eta 0:00:01\r\u001b[K     |█████████████████████████▊      | 1.7 MB 9.2 MB/s eta 0:00:01\r\u001b[K     |██████████████████████████      | 1.7 MB 9.2 MB/s eta 0:00:01\r\u001b[K     |██████████████████████████      | 1.7 MB 9.2 MB/s eta 0:00:01\r\u001b[K     |██████████████████████████▏     | 1.7 MB 9.2 MB/s eta 0:00:01\r\u001b[K     |██████████████████████████▍     | 1.7 MB 9.2 MB/s eta 0:00:01\r\u001b[K     |██████████████████████████▌     | 1.7 MB 9.2 MB/s eta 0:00:01\r\u001b[K     |██████████████████████████▊     | 1.7 MB 9.2 MB/s eta 0:00:01\r\u001b[K     |██████████████████████████▉     | 1.8 MB 9.2 MB/s eta 0:00:01\r\u001b[K     |███████████████████████████     | 1.8 MB 9.2 MB/s eta 0:00:01\r\u001b[K     |███████████████████████████▏    | 1.8 MB 9.2 MB/s eta 0:00:01\r\u001b[K     |███████████████████████████▎    | 1.8 MB 9.2 MB/s eta 0:00:01\r\u001b[K     |███████████████████████████▌    | 1.8 MB 9.2 MB/s eta 0:00:01\r\u001b[K     |███████████████████████████▋    | 1.8 MB 9.2 MB/s eta 0:00:01\r\u001b[K     |███████████████████████████▉    | 1.8 MB 9.2 MB/s eta 0:00:01\r\u001b[K     |████████████████████████████    | 1.8 MB 9.2 MB/s eta 0:00:01\r\u001b[K     |████████████████████████████    | 1.8 MB 9.2 MB/s eta 0:00:01\r\u001b[K     |████████████████████████████▎   | 1.8 MB 9.2 MB/s eta 0:00:01\r\u001b[K     |████████████████████████████▍   | 1.9 MB 9.2 MB/s eta 0:00:01\r\u001b[K     |████████████████████████████▋   | 1.9 MB 9.2 MB/s eta 0:00:01\r\u001b[K     |████████████████████████████▊   | 1.9 MB 9.2 MB/s eta 0:00:01\r\u001b[K     |████████████████████████████▉   | 1.9 MB 9.2 MB/s eta 0:00:01\r\u001b[K     |█████████████████████████████   | 1.9 MB 9.2 MB/s eta 0:00:01\r\u001b[K     |█████████████████████████████▏  | 1.9 MB 9.2 MB/s eta 0:00:01\r\u001b[K     |█████████████████████████████▍  | 1.9 MB 9.2 MB/s eta 0:00:01\r\u001b[K     |█████████████████████████████▌  | 1.9 MB 9.2 MB/s eta 0:00:01\r\u001b[K     |█████████████████████████████▊  | 1.9 MB 9.2 MB/s eta 0:00:01\r\u001b[K     |█████████████████████████████▉  | 1.9 MB 9.2 MB/s eta 0:00:01\r\u001b[K     |██████████████████████████████  | 2.0 MB 9.2 MB/s eta 0:00:01\r\u001b[K     |██████████████████████████████▏ | 2.0 MB 9.2 MB/s eta 0:00:01\r\u001b[K     |██████████████████████████████▎ | 2.0 MB 9.2 MB/s eta 0:00:01\r\u001b[K     |██████████████████████████████▌ | 2.0 MB 9.2 MB/s eta 0:00:01\r\u001b[K     |██████████████████████████████▋ | 2.0 MB 9.2 MB/s eta 0:00:01\r\u001b[K     |██████████████████████████████▊ | 2.0 MB 9.2 MB/s eta 0:00:01\r\u001b[K     |███████████████████████████████ | 2.0 MB 9.2 MB/s eta 0:00:01\r\u001b[K     |███████████████████████████████ | 2.0 MB 9.2 MB/s eta 0:00:01\r\u001b[K     |███████████████████████████████▎| 2.0 MB 9.2 MB/s eta 0:00:01\r\u001b[K     |███████████████████████████████▍| 2.0 MB 9.2 MB/s eta 0:00:01\r\u001b[K     |███████████████████████████████▋| 2.1 MB 9.2 MB/s eta 0:00:01\r\u001b[K     |███████████████████████████████▊| 2.1 MB 9.2 MB/s eta 0:00:01\r\u001b[K     |███████████████████████████████▉| 2.1 MB 9.2 MB/s eta 0:00:01\r\u001b[K     |████████████████████████████████| 2.1 MB 9.2 MB/s \n",
            "\u001b[?25h  Installing build dependencies ... \u001b[?25l\u001b[?25hdone\n",
            "  Getting requirements to build wheel ... \u001b[?25l\u001b[?25hdone\n",
            "    Preparing wheel metadata ... \u001b[?25l\u001b[?25hdone\n",
            "\u001b[K     |████████████████████████████████| 270 kB 49.4 MB/s \n",
            "\u001b[K     |████████████████████████████████| 2.6 MB 37.8 MB/s \n",
            "\u001b[?25h  Building wheel for nerfax (setup.py) ... \u001b[?25l\u001b[?25hdone\n",
            "  Building wheel for mdtraj (PEP 517) ... \u001b[?25l\u001b[?25hdone\n"
          ]
        }
      ],
      "source": [
        "!pip install -q git+https://github.com/PeptoneLtd/nerfax.git"
      ]
    },
    {
      "cell_type": "code",
      "source": [
        "import nerfax\n",
        "import mdtraj as md\n",
        "\n",
        "path = 'model.pdb'\n",
        "!wget https://alphafold.ebi.ac.uk/files/AF-Q93WI9-F1-model_v4.pdb -q -O {path}\n",
        "\n",
        "# Load pdb file with mdtraj into scnet internal coordinate format\n",
        "internal_coords = nerfax.parser.load_pdb(path)\n",
        "# Reconstruct scnet cartesian (L,14,3) from internal coordinate format\n",
        "reconstructed_cartesian_scnet_coords = nerfax.plugin.protein_fold(**internal_coords)\n",
        "\n",
        "# Copy the resulting scnet coords back into 'normal' mdtraj format\n",
        "t = nerfax.parser.load_traj(path)\n",
        "_, _restrict_to_scnet_atoms, _scnet_to_list = nerfax.parser.get_scnet_loader_fns(t)\n",
        "t = _restrict_to_scnet_atoms(t)\n",
        "t.xyz = _scnet_to_list(reconstructed_cartesian_scnet_coords)[None]\n",
        "\n",
        "# Check RMSD to original positions\n",
        "t_pre = _restrict_to_scnet_atoms(nerfax.parser.load_traj(path))\n",
        "print(f'RMSD between reconstructed and original : {md.rmsd(t,t_pre)[0]:.1g}')"
      ],
      "metadata": {
        "colab": {
          "base_uri": "https://localhost:8080/"
        },
        "id": "mdyrPvWpl_W7",
        "outputId": "50bc382e-c4ad-4dec-8f1b-16265cfaf49f"
      },
      "execution_count": 2,
      "outputs": [
        {
          "output_type": "stream",
          "name": "stderr",
          "text": [
            "/usr/local/lib/python3.7/dist-packages/mdtraj/formats/pdb/pdbfile.py:202: UserWarning: Unlikely unit cell vectors detected in PDB file likely resulting from a dummy CRYST1 record. Discarding unit cell vectors.\n",
            "  'cell vectors.', category=UserWarning)\n",
            "WARNING:absl:No GPU/TPU found, falling back to CPU. (Set TF_CPP_MIN_LOG_LEVEL=0 and rerun for more info.)\n",
            "/usr/local/lib/python3.7/dist-packages/mdtraj/formats/pdb/pdbfile.py:202: UserWarning: Unlikely unit cell vectors detected in PDB file likely resulting from a dummy CRYST1 record. Discarding unit cell vectors.\n",
            "  'cell vectors.', category=UserWarning)\n"
          ]
        },
        {
          "output_type": "stream",
          "name": "stdout",
          "text": [
            "RMSD between reconstructed and original : 0.0006\n"
          ]
        }
      ]
    },
    {
      "cell_type": "markdown",
      "source": [
        "If the reconstruction is to be done on the same protein many times over we can compile the reconstruction, specialised to that exact protein"
      ],
      "metadata": {
        "id": "NGoNfFImokHv"
      }
    },
    {
      "cell_type": "code",
      "source": [
        "from jax import jit, block_until_ready\n",
        "fold = jit(nerfax.plugin.get_jax_protein_fold(internal_coords))\n",
        "inputs = {k:internal_coords[k] for k in ['angles_mask', 'bond_mask']}\n",
        "# compile\n",
        "_ = fold(**inputs)\n",
        "# time\n",
        "%time output = block_until_ready(fold(**inputs))"
      ],
      "metadata": {
        "colab": {
          "base_uri": "https://localhost:8080/"
        },
        "id": "r6LxrwaamT_u",
        "outputId": "b92eb1a6-6e3d-4e5b-c119-84c3f273a2b2"
      },
      "execution_count": 3,
      "outputs": [
        {
          "output_type": "stream",
          "name": "stdout",
          "text": [
            "CPU times: user 558 µs, sys: 0 ns, total: 558 µs\n",
            "Wall time: 582 µs\n"
          ]
        }
      ]
    },
    {
      "cell_type": "markdown",
      "source": [
        "The fold by default uses the associative scan, however this is not optimal for running on CPU. We can switch to using the sequential version instead and should get a faster benchmark"
      ],
      "metadata": {
        "id": "jcoO_mB8qYIK"
      }
    },
    {
      "cell_type": "code",
      "source": [
        "from functools import partial\n",
        "fold = jit(nerfax.plugin.get_jax_protein_fold(internal_coords, \n",
        "                  reconstruct_fn=partial(nerfax.reconstruct.reconstruct_from_internal_coordinates, mode='sequential')\n",
        "          ))\n",
        "# compile\n",
        "_ = fold(**inputs)\n",
        "# time\n",
        "%time output = block_until_ready(fold(**inputs))"
      ],
      "metadata": {
        "colab": {
          "base_uri": "https://localhost:8080/"
        },
        "id": "kAu1v6KXprwz",
        "outputId": "f6f009d3-2d29-4f01-e493-852efef3bbea"
      },
      "execution_count": 4,
      "outputs": [
        {
          "output_type": "stream",
          "name": "stdout",
          "text": [
            "CPU times: user 413 µs, sys: 0 ns, total: 413 µs\n",
            "Wall time: 423 µs\n"
          ]
        }
      ]
    }
  ]
}